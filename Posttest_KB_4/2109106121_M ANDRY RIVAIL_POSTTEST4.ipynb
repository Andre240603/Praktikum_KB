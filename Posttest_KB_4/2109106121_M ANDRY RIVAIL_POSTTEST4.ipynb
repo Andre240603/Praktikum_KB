{
 "cells": [
  {
   "cell_type": "markdown",
   "id": "4e3fc802-cee8-4aa1-869a-ffa5b30e0c1c",
   "metadata": {},
   "source": [
    "# POSTTEST 4"
   ]
  },
  {
   "cell_type": "code",
   "execution_count": 2,
   "id": "5bab6fd1-bd2c-46f1-be89-ec8aedb3f91f",
   "metadata": {},
   "outputs": [],
   "source": [
    "import numpy as np\n",
    "import pandas as pd\n",
    "from sklearn.preprocessing import MinMaxScaler, StandardScaler, OneHotEncoder\n",
    "from sklearn.model_selection import train_test_split\n",
    "from sklearn.impute import SimpleImputer"
   ]
  },
  {
   "cell_type": "markdown",
   "id": "bd6b8708-3433-4743-9262-d7f139f8f8d9",
   "metadata": {},
   "source": [
    "### Info Data"
   ]
  },
  {
   "cell_type": "code",
   "execution_count": 3,
   "id": "612ee5c7-7609-48b2-a8da-f7008cddfa70",
   "metadata": {},
   "outputs": [
    {
     "name": "stdout",
     "output_type": "stream",
     "text": [
      "<class 'pandas.core.frame.DataFrame'>\n",
      "RangeIndex: 9560 entries, 0 to 9559\n",
      "Data columns (total 7 columns):\n",
      " #   Column      Non-Null Count  Dtype \n",
      "---  ------      --------------  ----- \n",
      " 0   Unnamed: 0  9560 non-null   int64 \n",
      " 1   userName    9560 non-null   object\n",
      " 2   rating      9560 non-null   int64 \n",
      " 3   review      9560 non-null   object\n",
      " 4   isEdited    9560 non-null   bool  \n",
      " 5   date        9560 non-null   object\n",
      " 6   title       9560 non-null   object\n",
      "dtypes: bool(1), int64(2), object(4)\n",
      "memory usage: 457.6+ KB\n"
     ]
    }
   ],
   "source": [
    "df = pd.read_csv('Snapchat_app_store_reviews.csv')\n",
    "df.info()"
   ]
  },
  {
   "cell_type": "code",
   "execution_count": 4,
   "id": "e60f7b53-6eb2-448a-8634-9b61afb1262d",
   "metadata": {},
   "outputs": [],
   "source": [
    "df.rename(columns={'Unnamed: 0': 'Number'}, inplace=True)"
   ]
  },
  {
   "cell_type": "markdown",
   "id": "9ba08e40-c9cb-4580-b9d4-3a948bb1867f",
   "metadata": {},
   "source": [
    "Panjang pada Kolom dan Attribut"
   ]
  },
  {
   "cell_type": "code",
   "execution_count": 5,
   "id": "c5c41a21-601f-4285-a7f2-8f4ac869a03f",
   "metadata": {},
   "outputs": [
    {
     "data": {
      "text/plain": [
       "(9560, 7)"
      ]
     },
     "execution_count": 5,
     "metadata": {},
     "output_type": "execute_result"
    }
   ],
   "source": [
    "df.shape"
   ]
  },
  {
   "cell_type": "markdown",
   "id": "4ea0e70e-abc3-4aef-8b9c-b5c4ecf41b4e",
   "metadata": {},
   "source": [
    "#### Bagi dataset menjadi training set dan testing set dengan proporsi 70:30"
   ]
  },
  {
   "cell_type": "code",
   "execution_count": 6,
   "id": "2047110a-2e77-4e0b-9fd1-cb3597dc9451",
   "metadata": {},
   "outputs": [
    {
     "name": "stdout",
     "output_type": "stream",
     "text": [
      "Dimensi X_train (6692, 6)\n",
      "Dimensi X_test (2868, 6)\n",
      "Dimensi y_train (6692,)\n",
      "Dimensi y_test (2868,)\n"
     ]
    }
   ],
   "source": [
    "X = df.iloc[:, : -1]\n",
    "y = df.iloc[:, -1]\n",
    "\n",
    "X_train, X_test, y_train, y_test = train_test_split(X, y, test_size=0.3)\n",
    "\n",
    "print(\"Dimensi X_train\", X_train.shape)\n",
    "print(\"Dimensi X_test\", X_test.shape)\n",
    "print(\"Dimensi y_train\", y_train.shape)\n",
    "print(\"Dimensi y_test\", y_test.shape)"
   ]
  },
  {
   "cell_type": "markdown",
   "id": "079028e0-95c9-4597-9f1b-201aa850b8e0",
   "metadata": {},
   "source": [
    "#### Lakukan normalisasi data pada salah satu attribute menggunakan Min Max scaler (buatlah copy dataset terlebih dahulu)"
   ]
  },
  {
   "cell_type": "code",
   "execution_count": 7,
   "id": "03383464-3ed4-44c7-a3eb-eca9bc2c7715",
   "metadata": {},
   "outputs": [
    {
     "name": "stdout",
     "output_type": "stream",
     "text": [
      "\n",
      "Data Sebelum dan Sesudah dilakukan normalisasi : \n",
      "\n"
     ]
    },
    {
     "data": {
      "text/html": [
       "<div>\n",
       "<style scoped>\n",
       "    .dataframe tbody tr th:only-of-type {\n",
       "        vertical-align: middle;\n",
       "    }\n",
       "\n",
       "    .dataframe tbody tr th {\n",
       "        vertical-align: top;\n",
       "    }\n",
       "\n",
       "    .dataframe thead th {\n",
       "        text-align: right;\n",
       "    }\n",
       "</style>\n",
       "<table border=\"1\" class=\"dataframe\">\n",
       "  <thead>\n",
       "    <tr style=\"text-align: right;\">\n",
       "      <th></th>\n",
       "      <th>rating</th>\n",
       "      <th>rating_normalisasi</th>\n",
       "    </tr>\n",
       "  </thead>\n",
       "  <tbody>\n",
       "    <tr>\n",
       "      <th>0</th>\n",
       "      <td>4</td>\n",
       "      <td>0.75</td>\n",
       "    </tr>\n",
       "    <tr>\n",
       "      <th>1</th>\n",
       "      <td>3</td>\n",
       "      <td>0.50</td>\n",
       "    </tr>\n",
       "    <tr>\n",
       "      <th>2</th>\n",
       "      <td>3</td>\n",
       "      <td>0.50</td>\n",
       "    </tr>\n",
       "    <tr>\n",
       "      <th>3</th>\n",
       "      <td>5</td>\n",
       "      <td>1.00</td>\n",
       "    </tr>\n",
       "    <tr>\n",
       "      <th>4</th>\n",
       "      <td>1</td>\n",
       "      <td>0.00</td>\n",
       "    </tr>\n",
       "    <tr>\n",
       "      <th>5</th>\n",
       "      <td>1</td>\n",
       "      <td>0.00</td>\n",
       "    </tr>\n",
       "    <tr>\n",
       "      <th>6</th>\n",
       "      <td>4</td>\n",
       "      <td>0.75</td>\n",
       "    </tr>\n",
       "    <tr>\n",
       "      <th>7</th>\n",
       "      <td>1</td>\n",
       "      <td>0.00</td>\n",
       "    </tr>\n",
       "    <tr>\n",
       "      <th>8</th>\n",
       "      <td>1</td>\n",
       "      <td>0.00</td>\n",
       "    </tr>\n",
       "    <tr>\n",
       "      <th>9</th>\n",
       "      <td>1</td>\n",
       "      <td>0.00</td>\n",
       "    </tr>\n",
       "  </tbody>\n",
       "</table>\n",
       "</div>"
      ],
      "text/plain": [
       "   rating  rating_normalisasi\n",
       "0       4                0.75\n",
       "1       3                0.50\n",
       "2       3                0.50\n",
       "3       5                1.00\n",
       "4       1                0.00\n",
       "5       1                0.00\n",
       "6       4                0.75\n",
       "7       1                0.00\n",
       "8       1                0.00\n",
       "9       1                0.00"
      ]
     },
     "execution_count": 7,
     "metadata": {},
     "output_type": "execute_result"
    }
   ],
   "source": [
    "min_max = MinMaxScaler()\n",
    "\n",
    "# Copy Data\n",
    "copy1 = df\n",
    "dataCopy_normalization = copy1[[\"rating\"]]\n",
    "\n",
    "normalization = min_max.fit_transform(dataCopy_normalization[[\"rating\"]])\n",
    "\n",
    "data_normalization = pd.DataFrame(normalization)\n",
    "data_normalization.columns =[\"rating_normalisasi\"]\n",
    "\n",
    "dataCopy_normalization = dataCopy_normalization.join(data_normalization[\"rating_normalisasi\"]).reset_index()\n",
    "dataCopy_normalization = dataCopy_normalization.drop(\"index\", axis=1)\n",
    "\n",
    "print()\n",
    "print(\"Data Sebelum dan Sesudah dilakukan normalisasi : \\n\")\n",
    "dataCopy_normalization.head(10)"
   ]
  },
  {
   "cell_type": "markdown",
   "id": "bcb520a6-32ad-4f24-b5e0-1a5f83da0e48",
   "metadata": {},
   "source": [
    "#### Melakukan standarisasi pada dataset dengan membuat copy dataset terlebih dahulu"
   ]
  },
  {
   "cell_type": "code",
   "execution_count": 8,
   "id": "eea04004-d35d-4919-8e86-cfc191998229",
   "metadata": {},
   "outputs": [],
   "source": [
    "df_copy = df.copy()\n",
    "columns_to_scale = ['Number', 'rating']\n",
    "\n",
    "scaler = StandardScaler()\n",
    "df_copy[columns_to_scale] = scaler.fit_transform(df_copy[columns_to_scale])"
   ]
  },
  {
   "cell_type": "code",
   "execution_count": 9,
   "id": "f00bd18e-dd5c-4619-b6ba-8ffc86c669f0",
   "metadata": {},
   "outputs": [
    {
     "name": "stdout",
     "output_type": "stream",
     "text": [
      "Data Sebelum Scaling:\n",
      "   Number  rating\n",
      "0       0       4\n",
      "1       1       3\n",
      "2       2       3\n",
      "3       3       5\n",
      "4       4       1\n",
      "\n",
      "Data Sesudah Scaling:\n",
      "     Number    rating\n",
      "0 -1.731870  0.624321\n",
      "1 -1.731507 -0.091328\n",
      "2 -1.731145 -0.091328\n",
      "3 -1.730783  1.339969\n",
      "4 -1.730420 -1.522624\n"
     ]
    }
   ],
   "source": [
    "print(\"Data Sebelum Scaling:\")\n",
    "print(df[columns_to_scale].head())\n",
    "\n",
    "print(\"\\nData Sesudah Scaling:\")\n",
    "print(df_copy[columns_to_scale].head())"
   ]
  },
  {
   "cell_type": "markdown",
   "id": "56ae19f1-2cfa-4c44-b27d-a54412a2ef95",
   "metadata": {},
   "source": [
    "#### Lakukan Data cleaning pada data dengan nilai null (jika tidak ada nilai null pada dataset, maka buatlah menjadi ada). Ganti nilai null sesuai ketentuan. (bilangan bulat : median/modus, bilangan desimal : mean, tulisan : modus)"
   ]
  },
  {
   "cell_type": "markdown",
   "id": "bcc9da07-caa0-46f3-a534-3fad32bb2b16",
   "metadata": {},
   "source": [
    "<li>Mengecek Nilai Null</li>"
   ]
  },
  {
   "cell_type": "code",
   "execution_count": 10,
   "id": "1c47642c-39ba-44a2-a804-967f078a0bf5",
   "metadata": {},
   "outputs": [
    {
     "data": {
      "text/plain": [
       "Number      0\n",
       "userName    0\n",
       "rating      0\n",
       "review      0\n",
       "isEdited    0\n",
       "date        0\n",
       "title       0\n",
       "dtype: int64"
      ]
     },
     "execution_count": 10,
     "metadata": {},
     "output_type": "execute_result"
    }
   ],
   "source": [
    "df.isnull().sum()"
   ]
  },
  {
   "cell_type": "markdown",
   "id": "243aca07-d126-49c1-be5d-1b672c24161e",
   "metadata": {},
   "source": [
    "<li>Karena data tidak ada null maka akan dibuat menjadi ada null</li>"
   ]
  },
  {
   "cell_type": "code",
   "execution_count": 11,
   "id": "88c2acbf-e1ce-4e65-baa6-6cb31079120f",
   "metadata": {},
   "outputs": [
    {
     "data": {
      "text/html": [
       "<div>\n",
       "<style scoped>\n",
       "    .dataframe tbody tr th:only-of-type {\n",
       "        vertical-align: middle;\n",
       "    }\n",
       "\n",
       "    .dataframe tbody tr th {\n",
       "        vertical-align: top;\n",
       "    }\n",
       "\n",
       "    .dataframe thead th {\n",
       "        text-align: right;\n",
       "    }\n",
       "</style>\n",
       "<table border=\"1\" class=\"dataframe\">\n",
       "  <thead>\n",
       "    <tr style=\"text-align: right;\">\n",
       "      <th></th>\n",
       "      <th>Number</th>\n",
       "      <th>userName</th>\n",
       "      <th>rating</th>\n",
       "      <th>review</th>\n",
       "      <th>isEdited</th>\n",
       "      <th>date</th>\n",
       "      <th>title</th>\n",
       "    </tr>\n",
       "  </thead>\n",
       "  <tbody>\n",
       "    <tr>\n",
       "      <th>15</th>\n",
       "      <td>NaN</td>\n",
       "      <td>Pineconequeens</td>\n",
       "      <td>NaN</td>\n",
       "      <td>None</td>\n",
       "      <td>False</td>\n",
       "      <td>8/16/20 2:31</td>\n",
       "      <td>i’m annoyed</td>\n",
       "    </tr>\n",
       "    <tr>\n",
       "      <th>100</th>\n",
       "      <td>NaN</td>\n",
       "      <td>kristy k bob</td>\n",
       "      <td>NaN</td>\n",
       "      <td>None</td>\n",
       "      <td>False</td>\n",
       "      <td>8/30/20 0:09</td>\n",
       "      <td>Update idea</td>\n",
       "    </tr>\n",
       "    <tr>\n",
       "      <th>200</th>\n",
       "      <td>NaN</td>\n",
       "      <td>Mammsmsms</td>\n",
       "      <td>NaN</td>\n",
       "      <td>None</td>\n",
       "      <td>False</td>\n",
       "      <td>3/16/20 1:28</td>\n",
       "      <td>Alright Snapchat...</td>\n",
       "    </tr>\n",
       "    <tr>\n",
       "      <th>300</th>\n",
       "      <td>NaN</td>\n",
       "      <td>darrh vader rocks</td>\n",
       "      <td>NaN</td>\n",
       "      <td>None</td>\n",
       "      <td>False</td>\n",
       "      <td>5/19/20 3:44</td>\n",
       "      <td>Good</td>\n",
       "    </tr>\n",
       "    <tr>\n",
       "      <th>400</th>\n",
       "      <td>NaN</td>\n",
       "      <td>Berger277</td>\n",
       "      <td>NaN</td>\n",
       "      <td>None</td>\n",
       "      <td>False</td>\n",
       "      <td>10/28/20 18:06</td>\n",
       "      <td>User since 2012</td>\n",
       "    </tr>\n",
       "    <tr>\n",
       "      <th>500</th>\n",
       "      <td>NaN</td>\n",
       "      <td>hdjfkkgjdjfjt</td>\n",
       "      <td>NaN</td>\n",
       "      <td>None</td>\n",
       "      <td>False</td>\n",
       "      <td>5/5/20 12:14</td>\n",
       "      <td>The app is good and all but...</td>\n",
       "    </tr>\n",
       "    <tr>\n",
       "      <th>600</th>\n",
       "      <td>NaN</td>\n",
       "      <td>abcdefghijklmnopqrstuvwxux</td>\n",
       "      <td>NaN</td>\n",
       "      <td>None</td>\n",
       "      <td>False</td>\n",
       "      <td>8/14/20 3:51</td>\n",
       "      <td>N</td>\n",
       "    </tr>\n",
       "    <tr>\n",
       "      <th>700</th>\n",
       "      <td>NaN</td>\n",
       "      <td>zippers23</td>\n",
       "      <td>NaN</td>\n",
       "      <td>None</td>\n",
       "      <td>False</td>\n",
       "      <td>12/6/20 5:58</td>\n",
       "      <td>i used to love this app</td>\n",
       "    </tr>\n",
       "    <tr>\n",
       "      <th>800</th>\n",
       "      <td>NaN</td>\n",
       "      <td>kindamadngl</td>\n",
       "      <td>NaN</td>\n",
       "      <td>None</td>\n",
       "      <td>False</td>\n",
       "      <td>5/31/19 0:25</td>\n",
       "      <td>What the heck</td>\n",
       "    </tr>\n",
       "    <tr>\n",
       "      <th>900</th>\n",
       "      <td>NaN</td>\n",
       "      <td>Sammy📀📀📀🇬🇧🇬🇧🇬🇧</td>\n",
       "      <td>NaN</td>\n",
       "      <td>None</td>\n",
       "      <td>False</td>\n",
       "      <td>5/22/19 2:41</td>\n",
       "      <td>alright</td>\n",
       "    </tr>\n",
       "    <tr>\n",
       "      <th>1000</th>\n",
       "      <td>NaN</td>\n",
       "      <td>Lala411290</td>\n",
       "      <td>NaN</td>\n",
       "      <td>None</td>\n",
       "      <td>False</td>\n",
       "      <td>3/23/20 23:32</td>\n",
       "      <td>Snapchat Glitches &amp; One Suggestion</td>\n",
       "    </tr>\n",
       "  </tbody>\n",
       "</table>\n",
       "</div>"
      ],
      "text/plain": [
       "      Number                    userName  rating review  isEdited  \\\n",
       "15       NaN              Pineconequeens     NaN   None     False   \n",
       "100      NaN                kristy k bob     NaN   None     False   \n",
       "200      NaN                   Mammsmsms     NaN   None     False   \n",
       "300      NaN           darrh vader rocks     NaN   None     False   \n",
       "400      NaN                   Berger277     NaN   None     False   \n",
       "500      NaN               hdjfkkgjdjfjt     NaN   None     False   \n",
       "600      NaN  abcdefghijklmnopqrstuvwxux     NaN   None     False   \n",
       "700      NaN                   zippers23     NaN   None     False   \n",
       "800      NaN                 kindamadngl     NaN   None     False   \n",
       "900      NaN              Sammy📀📀📀🇬🇧🇬🇧🇬🇧     NaN   None     False   \n",
       "1000     NaN                  Lala411290     NaN   None     False   \n",
       "\n",
       "                date                               title  \n",
       "15      8/16/20 2:31                         i’m annoyed  \n",
       "100     8/30/20 0:09                         Update idea  \n",
       "200     3/16/20 1:28                 Alright Snapchat...  \n",
       "300     5/19/20 3:44                                Good  \n",
       "400   10/28/20 18:06                     User since 2012  \n",
       "500     5/5/20 12:14      The app is good and all but...  \n",
       "600     8/14/20 3:51                                   N  \n",
       "700     12/6/20 5:58             i used to love this app  \n",
       "800     5/31/19 0:25                       What the heck  \n",
       "900     5/22/19 2:41                             alright  \n",
       "1000   3/23/20 23:32  Snapchat Glitches & One Suggestion  "
      ]
     },
     "execution_count": 11,
     "metadata": {},
     "output_type": "execute_result"
    }
   ],
   "source": [
    "# Untuk Menghilangkan SettingWithCopyWarning\n",
    "pd.options.mode.chained_assignment = None\n",
    "\n",
    "df.Number[[15,100,200,300,400,500,600,700,800,900,1000]]=None;\n",
    "df.rating[[15,100,200,300,400,500,600,700,800,900,1000]]=None;\n",
    "df.review[[15,100,200,300,400,500,600,700,800,900,1000]]=None;\n",
    "\n",
    "df[df.isnull().any(axis=1)]"
   ]
  },
  {
   "cell_type": "markdown",
   "id": "6a57cd83-c94f-4bdc-a450-c2f0116a32d4",
   "metadata": {},
   "source": [
    "<li>Data Bilangan Bulat dengan Strategi Median"
   ]
  },
  {
   "cell_type": "code",
   "execution_count": 12,
   "id": "d95890c8-58ed-4079-ae8e-1d42a903a111",
   "metadata": {},
   "outputs": [
    {
     "data": {
      "text/plain": [
       "Number       0\n",
       "userName     0\n",
       "rating      11\n",
       "review      11\n",
       "isEdited     0\n",
       "date         0\n",
       "title        0\n",
       "dtype: int64"
      ]
     },
     "execution_count": 12,
     "metadata": {},
     "output_type": "execute_result"
    }
   ],
   "source": [
    "strategi1 = SimpleImputer(strategy=\"median\")\n",
    "\n",
    "df[\"Number\"] = strategi1.fit_transform(df[[\"Number\"]])\n",
    "\n",
    "df.isna().sum()"
   ]
  },
  {
   "cell_type": "code",
   "execution_count": 13,
   "id": "9521f083-a8da-4bb3-8500-8ca63992d022",
   "metadata": {},
   "outputs": [
    {
     "name": "stdout",
     "output_type": "stream",
     "text": [
      "15      4785.0\n",
      "100     4785.0\n",
      "200     4785.0\n",
      "300     4785.0\n",
      "400     4785.0\n",
      "500     4785.0\n",
      "600     4785.0\n",
      "700     4785.0\n",
      "800     4785.0\n",
      "900     4785.0\n",
      "1000    4785.0\n",
      "Name: Number, dtype: float64\n"
     ]
    }
   ],
   "source": [
    "print(df.Number[[15,100,200,300,400,500,600,700,800,900,1000]])"
   ]
  },
  {
   "cell_type": "markdown",
   "id": "92952253-a6af-45c5-9d6b-829fb38fc232",
   "metadata": {},
   "source": [
    "<li>Data Bilangan Desimal dengan Strategi Mean"
   ]
  },
  {
   "cell_type": "code",
   "execution_count": 14,
   "id": "75d38526-f811-4d9e-b9ab-a444b4830188",
   "metadata": {},
   "outputs": [
    {
     "data": {
      "text/plain": [
       "Number       0\n",
       "userName     0\n",
       "rating       0\n",
       "review      11\n",
       "isEdited     0\n",
       "date         0\n",
       "title        0\n",
       "dtype: int64"
      ]
     },
     "execution_count": 14,
     "metadata": {},
     "output_type": "execute_result"
    }
   ],
   "source": [
    "strategi2 = SimpleImputer(strategy=\"mean\")\n",
    "\n",
    "df[\"rating\"] = strategi2.fit_transform(df[[\"rating\"]])\n",
    "\n",
    "df.isna().sum()"
   ]
  },
  {
   "cell_type": "code",
   "execution_count": 15,
   "id": "c21533bb-27a5-4ef5-86d6-89fdfc262879",
   "metadata": {},
   "outputs": [
    {
     "name": "stdout",
     "output_type": "stream",
     "text": [
      "15      3.12682\n",
      "100     3.12682\n",
      "200     3.12682\n",
      "300     3.12682\n",
      "400     3.12682\n",
      "500     3.12682\n",
      "600     3.12682\n",
      "700     3.12682\n",
      "800     3.12682\n",
      "900     3.12682\n",
      "1000    3.12682\n",
      "Name: rating, dtype: float64\n"
     ]
    }
   ],
   "source": [
    "print(df.rating[[15,100,200,300,400,500,600,700,800,900,1000]])"
   ]
  },
  {
   "cell_type": "markdown",
   "id": "36a98c67-de18-4097-a628-82e0fead8531",
   "metadata": {},
   "source": [
    "<li> Data Tulisan dengan Strategi Modus"
   ]
  },
  {
   "cell_type": "code",
   "execution_count": 16,
   "id": "e16768e9-2c47-4f13-b0fc-e1ad599dff66",
   "metadata": {},
   "outputs": [
    {
     "data": {
      "text/plain": [
       "Number      0\n",
       "userName    0\n",
       "rating      0\n",
       "review      0\n",
       "isEdited    0\n",
       "date        0\n",
       "title       0\n",
       "dtype: int64"
      ]
     },
     "execution_count": 16,
     "metadata": {},
     "output_type": "execute_result"
    }
   ],
   "source": [
    "strategi3 = SimpleImputer(missing_values=None, strategy=\"most_frequent\")\n",
    "\n",
    "df[\"review\"] = strategi3.fit_transform(df[[\"review\"]])\n",
    "\n",
    "df.isna().sum()"
   ]
  },
  {
   "cell_type": "code",
   "execution_count": 17,
   "id": "9cd3b9dc-7017-48d1-8d61-b5bef48debca",
   "metadata": {},
   "outputs": [
    {
     "name": "stdout",
     "output_type": "stream",
     "text": [
      "15      (MUST READ) Snapchat is something i use often ...\n",
      "100     (MUST READ) Snapchat is something i use often ...\n",
      "200     (MUST READ) Snapchat is something i use often ...\n",
      "300     (MUST READ) Snapchat is something i use often ...\n",
      "400     (MUST READ) Snapchat is something i use often ...\n",
      "500     (MUST READ) Snapchat is something i use often ...\n",
      "600     (MUST READ) Snapchat is something i use often ...\n",
      "700     (MUST READ) Snapchat is something i use often ...\n",
      "800     (MUST READ) Snapchat is something i use often ...\n",
      "900     (MUST READ) Snapchat is something i use often ...\n",
      "1000    (MUST READ) Snapchat is something i use often ...\n",
      "Name: review, dtype: object\n"
     ]
    }
   ],
   "source": [
    "print(df.review[[15,100,200,300,400,500,600,700,800,900,1000]])"
   ]
  },
  {
   "cell_type": "markdown",
   "id": "85922088-3295-461d-8a0f-837c890cc0be",
   "metadata": {},
   "source": [
    "#### Lakukan Data cleaning pada data dengan nilai duplikat."
   ]
  },
  {
   "cell_type": "markdown",
   "id": "0811ea73-0159-435e-84b2-c244f03a6527",
   "metadata": {},
   "source": [
    "<li> Karena Data tadinya tidak ada duplikat, jadi kita bikin menjadi ada "
   ]
  },
  {
   "cell_type": "code",
   "execution_count": 18,
   "id": "938d6962-d216-47c1-87d4-77cb522ede17",
   "metadata": {},
   "outputs": [
    {
     "name": "stderr",
     "output_type": "stream",
     "text": [
      "C:\\Users\\User\\AppData\\Local\\Temp\\ipykernel_8780\\456454592.py:9: FutureWarning: The frame.append method is deprecated and will be removed from pandas in a future version. Use pandas.concat instead.\n",
      "  df = df.append([duplicate1, duplicate2], ignore_index=True)\n"
     ]
    }
   ],
   "source": [
    "duplicate1 = pd.DataFrame([[1, 'Andre', 3, \n",
    "                            'Im sorry to say it but something is definitely wrong with Snapchat', 'FALSE', '10/14/20 2:13', 'What happened']],\n",
    "                        columns = ['Number', 'userName', 'rating', 'review', 'isEdited', 'date', 'title'])\n",
    "\n",
    "duplicate2 = pd.DataFrame([[1, 'Andre', 3, \n",
    "                            'Im sorry to say it but something is definitely wrong with Snapchat.', 'FALSE', '10/14/20 2:13', 'What happened']],\n",
    "                        columns = ['Number', 'userName', 'rating', 'review', 'isEdited', 'date', 'title'])\n",
    "\n",
    "df = df.append([duplicate1, duplicate2], ignore_index=True)"
   ]
  },
  {
   "cell_type": "code",
   "execution_count": 19,
   "id": "bcd451ff-6015-4c05-a5c5-f1935acb89c7",
   "metadata": {},
   "outputs": [
    {
     "name": "stdout",
     "output_type": "stream",
     "text": [
      "Jumlah Data Duplikat : \n"
     ]
    },
    {
     "data": {
      "text/plain": [
       "0"
      ]
     },
     "execution_count": 19,
     "metadata": {},
     "output_type": "execute_result"
    }
   ],
   "source": [
    "df[df.duplicated()]\n",
    "\n",
    "print(\"Jumlah Data Duplikat : \")\n",
    "df.duplicated().sum()"
   ]
  },
  {
   "cell_type": "code",
   "execution_count": 20,
   "id": "24048c97-c34e-40fb-a003-19a64ae37ef5",
   "metadata": {},
   "outputs": [
    {
     "name": "stdout",
     "output_type": "stream",
     "text": [
      "Jumlah data duplicated setelah di drop :\n"
     ]
    },
    {
     "data": {
      "text/plain": [
       "0"
      ]
     },
     "execution_count": 20,
     "metadata": {},
     "output_type": "execute_result"
    }
   ],
   "source": [
    "df.drop_duplicates(inplace=True)\n",
    "\n",
    "hasil = df.reset_index(drop=True)\n",
    "print(\"Jumlah data duplicated setelah di drop :\")\n",
    "hasil.duplicated().sum()"
   ]
  },
  {
   "cell_type": "markdown",
   "id": "a6cb26bd-9c78-42e9-b744-e5f5837e57d3",
   "metadata": {},
   "source": [
    "#### Mengganti tipe data salah satu attribute angka"
   ]
  },
  {
   "cell_type": "markdown",
   "id": "87b2bf5c-53fa-4f3f-8de2-70c7a307f2a1",
   "metadata": {},
   "source": [
    "<li> Mengganti tipe data Number yang sebelumnya float menjadi int"
   ]
  },
  {
   "cell_type": "code",
   "execution_count": 21,
   "id": "e30cfdd0-b524-4b47-8246-46ce7b8d355d",
   "metadata": {},
   "outputs": [
    {
     "name": "stdout",
     "output_type": "stream",
     "text": [
      "Tipe data Number sebelum di ubah :\n"
     ]
    },
    {
     "data": {
      "text/plain": [
       "Number      float64\n",
       "userName     object\n",
       "rating      float64\n",
       "review       object\n",
       "isEdited     object\n",
       "date         object\n",
       "title        object\n",
       "dtype: object"
      ]
     },
     "execution_count": 21,
     "metadata": {},
     "output_type": "execute_result"
    }
   ],
   "source": [
    "print(\"Tipe data Number sebelum di ubah :\")\n",
    "df.dtypes"
   ]
  },
  {
   "cell_type": "code",
   "execution_count": 22,
   "id": "5d906976-b429-40dd-9127-23eaff4b6ea1",
   "metadata": {},
   "outputs": [
    {
     "name": "stdout",
     "output_type": "stream",
     "text": [
      "Tipe data Number sesudah di ubah :\n"
     ]
    },
    {
     "data": {
      "text/plain": [
       "Number        int64\n",
       "userName     object\n",
       "rating      float64\n",
       "review       object\n",
       "isEdited     object\n",
       "date         object\n",
       "title        object\n",
       "dtype: object"
      ]
     },
     "execution_count": 22,
     "metadata": {},
     "output_type": "execute_result"
    }
   ],
   "source": [
    "df['Number'] = df['Number'].astype('int64')\n",
    "\n",
    "print(\"Tipe data Number sesudah di ubah :\")\n",
    "df.dtypes"
   ]
  },
  {
   "cell_type": "markdown",
   "id": "377ca696-b330-4780-845a-99e570e3b98c",
   "metadata": {},
   "source": [
    "#### Melakukan One hOt Encoding pada Dataset"
   ]
  },
  {
   "cell_type": "code",
   "execution_count": 23,
   "id": "1258d152-aefd-457e-b068-244dc77f94f9",
   "metadata": {},
   "outputs": [
    {
     "name": "stderr",
     "output_type": "stream",
     "text": [
      "D:\\venv_C1-21\\Andre_121\\lib\\site-packages\\sklearn\\preprocessing\\_encoders.py:975: FutureWarning: `sparse` was renamed to `sparse_output` in version 1.2 and will be removed in 1.4. `sparse_output` is ignored unless you leave `sparse` to its default value.\n",
      "  warnings.warn(\n"
     ]
    },
    {
     "data": {
      "text/html": [
       "<div>\n",
       "<style scoped>\n",
       "    .dataframe tbody tr th:only-of-type {\n",
       "        vertical-align: middle;\n",
       "    }\n",
       "\n",
       "    .dataframe tbody tr th {\n",
       "        vertical-align: top;\n",
       "    }\n",
       "\n",
       "    .dataframe thead th {\n",
       "        text-align: right;\n",
       "    }\n",
       "</style>\n",
       "<table border=\"1\" class=\"dataframe\">\n",
       "  <thead>\n",
       "    <tr style=\"text-align: right;\">\n",
       "      <th></th>\n",
       "      <th>Number</th>\n",
       "      <th>userName</th>\n",
       "      <th>rating</th>\n",
       "      <th>review</th>\n",
       "      <th>isEdited</th>\n",
       "      <th>date</th>\n",
       "      <th>title</th>\n",
       "      <th>0</th>\n",
       "      <th>1</th>\n",
       "      <th>2</th>\n",
       "      <th>...</th>\n",
       "      <th>9541</th>\n",
       "      <th>9542</th>\n",
       "      <th>9543</th>\n",
       "      <th>9544</th>\n",
       "      <th>9545</th>\n",
       "      <th>9546</th>\n",
       "      <th>9547</th>\n",
       "      <th>9548</th>\n",
       "      <th>9549</th>\n",
       "      <th>9550</th>\n",
       "    </tr>\n",
       "  </thead>\n",
       "  <tbody>\n",
       "    <tr>\n",
       "      <th>0</th>\n",
       "      <td>0</td>\n",
       "      <td>Savvanananahhh</td>\n",
       "      <td>4.0</td>\n",
       "      <td>For the most part I quite enjoy Snapchat it’s ...</td>\n",
       "      <td>False</td>\n",
       "      <td>10/4/20 6:01</td>\n",
       "      <td>Performance issues</td>\n",
       "      <td>0.0</td>\n",
       "      <td>0.0</td>\n",
       "      <td>0.0</td>\n",
       "      <td>...</td>\n",
       "      <td>0.0</td>\n",
       "      <td>0.0</td>\n",
       "      <td>0.0</td>\n",
       "      <td>0.0</td>\n",
       "      <td>0.0</td>\n",
       "      <td>0.0</td>\n",
       "      <td>0.0</td>\n",
       "      <td>0.0</td>\n",
       "      <td>0.0</td>\n",
       "      <td>0.0</td>\n",
       "    </tr>\n",
       "    <tr>\n",
       "      <th>1</th>\n",
       "      <td>1</td>\n",
       "      <td>Idek 9-101112</td>\n",
       "      <td>3.0</td>\n",
       "      <td>I’m sorry to say it, but something is definite...</td>\n",
       "      <td>False</td>\n",
       "      <td>10/14/20 2:13</td>\n",
       "      <td>What happened?</td>\n",
       "      <td>0.0</td>\n",
       "      <td>0.0</td>\n",
       "      <td>0.0</td>\n",
       "      <td>...</td>\n",
       "      <td>0.0</td>\n",
       "      <td>0.0</td>\n",
       "      <td>0.0</td>\n",
       "      <td>0.0</td>\n",
       "      <td>0.0</td>\n",
       "      <td>0.0</td>\n",
       "      <td>0.0</td>\n",
       "      <td>0.0</td>\n",
       "      <td>0.0</td>\n",
       "      <td>0.0</td>\n",
       "    </tr>\n",
       "    <tr>\n",
       "      <th>2</th>\n",
       "      <td>2</td>\n",
       "      <td>William Quintana</td>\n",
       "      <td>3.0</td>\n",
       "      <td>Snapchat update ruined my story organization! ...</td>\n",
       "      <td>False</td>\n",
       "      <td>7/31/20 19:54</td>\n",
       "      <td>STORY ORGANIZATION RUINED!</td>\n",
       "      <td>0.0</td>\n",
       "      <td>0.0</td>\n",
       "      <td>0.0</td>\n",
       "      <td>...</td>\n",
       "      <td>0.0</td>\n",
       "      <td>0.0</td>\n",
       "      <td>0.0</td>\n",
       "      <td>0.0</td>\n",
       "      <td>0.0</td>\n",
       "      <td>0.0</td>\n",
       "      <td>0.0</td>\n",
       "      <td>0.0</td>\n",
       "      <td>0.0</td>\n",
       "      <td>0.0</td>\n",
       "    </tr>\n",
       "    <tr>\n",
       "      <th>3</th>\n",
       "      <td>3</td>\n",
       "      <td>an gonna be unkown😏</td>\n",
       "      <td>5.0</td>\n",
       "      <td>I really love the app for how long i have been...</td>\n",
       "      <td>False</td>\n",
       "      <td>4/22/21 14:10</td>\n",
       "      <td>The app is great</td>\n",
       "      <td>0.0</td>\n",
       "      <td>0.0</td>\n",
       "      <td>0.0</td>\n",
       "      <td>...</td>\n",
       "      <td>0.0</td>\n",
       "      <td>0.0</td>\n",
       "      <td>0.0</td>\n",
       "      <td>0.0</td>\n",
       "      <td>0.0</td>\n",
       "      <td>0.0</td>\n",
       "      <td>0.0</td>\n",
       "      <td>0.0</td>\n",
       "      <td>0.0</td>\n",
       "      <td>0.0</td>\n",
       "    </tr>\n",
       "    <tr>\n",
       "      <th>4</th>\n",
       "      <td>4</td>\n",
       "      <td>gzhangziqi</td>\n",
       "      <td>1.0</td>\n",
       "      <td>This is super frustrating. I was in the middle...</td>\n",
       "      <td>False</td>\n",
       "      <td>10/2/20 13:58</td>\n",
       "      <td>Locked me out, customer service not helping</td>\n",
       "      <td>0.0</td>\n",
       "      <td>0.0</td>\n",
       "      <td>0.0</td>\n",
       "      <td>...</td>\n",
       "      <td>0.0</td>\n",
       "      <td>0.0</td>\n",
       "      <td>0.0</td>\n",
       "      <td>0.0</td>\n",
       "      <td>0.0</td>\n",
       "      <td>0.0</td>\n",
       "      <td>0.0</td>\n",
       "      <td>0.0</td>\n",
       "      <td>0.0</td>\n",
       "      <td>0.0</td>\n",
       "    </tr>\n",
       "  </tbody>\n",
       "</table>\n",
       "<p>5 rows × 9558 columns</p>\n",
       "</div>"
      ],
      "text/plain": [
       "   Number             userName  rating  \\\n",
       "0       0       Savvanananahhh     4.0   \n",
       "1       1        Idek 9-101112     3.0   \n",
       "2       2     William Quintana     3.0   \n",
       "3       3  an gonna be unkown😏     5.0   \n",
       "4       4           gzhangziqi     1.0   \n",
       "\n",
       "                                              review isEdited           date  \\\n",
       "0  For the most part I quite enjoy Snapchat it’s ...    False   10/4/20 6:01   \n",
       "1  I’m sorry to say it, but something is definite...    False  10/14/20 2:13   \n",
       "2  Snapchat update ruined my story organization! ...    False  7/31/20 19:54   \n",
       "3  I really love the app for how long i have been...    False  4/22/21 14:10   \n",
       "4  This is super frustrating. I was in the middle...    False  10/2/20 13:58   \n",
       "\n",
       "                                         title    0    1    2  ...  9541  \\\n",
       "0                           Performance issues  0.0  0.0  0.0  ...   0.0   \n",
       "1                               What happened?  0.0  0.0  0.0  ...   0.0   \n",
       "2                   STORY ORGANIZATION RUINED!  0.0  0.0  0.0  ...   0.0   \n",
       "3                             The app is great  0.0  0.0  0.0  ...   0.0   \n",
       "4  Locked me out, customer service not helping  0.0  0.0  0.0  ...   0.0   \n",
       "\n",
       "   9542  9543  9544  9545  9546  9547  9548  9549  9550  \n",
       "0   0.0   0.0   0.0   0.0   0.0   0.0   0.0   0.0   0.0  \n",
       "1   0.0   0.0   0.0   0.0   0.0   0.0   0.0   0.0   0.0  \n",
       "2   0.0   0.0   0.0   0.0   0.0   0.0   0.0   0.0   0.0  \n",
       "3   0.0   0.0   0.0   0.0   0.0   0.0   0.0   0.0   0.0  \n",
       "4   0.0   0.0   0.0   0.0   0.0   0.0   0.0   0.0   0.0  \n",
       "\n",
       "[5 rows x 9558 columns]"
      ]
     },
     "execution_count": 23,
     "metadata": {},
     "output_type": "execute_result"
    }
   ],
   "source": [
    "one_encoder = OneHotEncoder(sparse=False)\n",
    "\n",
    "onehot = one_encoder.fit_transform(df[[\"review\"]])\n",
    "df_onehot = pd.DataFrame(onehot)\n",
    "df_encoder = df.join(df_onehot)\n",
    "df_encoder.head()"
   ]
  },
  {
   "cell_type": "code",
   "execution_count": null,
   "id": "515a525d-a539-4e17-a72d-cf00552ed797",
   "metadata": {},
   "outputs": [],
   "source": []
  }
 ],
 "metadata": {
  "kernelspec": {
   "display_name": "Andry_121",
   "language": "python",
   "name": "andry_121"
  },
  "language_info": {
   "codemirror_mode": {
    "name": "ipython",
    "version": 3
   },
   "file_extension": ".py",
   "mimetype": "text/x-python",
   "name": "python",
   "nbconvert_exporter": "python",
   "pygments_lexer": "ipython3",
   "version": "3.10.7"
  }
 },
 "nbformat": 4,
 "nbformat_minor": 5
}
