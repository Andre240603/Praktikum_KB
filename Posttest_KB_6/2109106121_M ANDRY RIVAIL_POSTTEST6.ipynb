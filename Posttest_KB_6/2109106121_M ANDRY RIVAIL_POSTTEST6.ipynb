{
 "cells": [
  {
   "cell_type": "markdown",
   "id": "167f5f53-87e0-483f-950a-9f3c937ae2f9",
   "metadata": {},
   "source": [
    "# POSTTEST 6"
   ]
  },
  {
   "cell_type": "markdown",
   "id": "19a4f669-9cfe-4af2-9c82-812bf4b4334f",
   "metadata": {},
   "source": [
    "## Import Library "
   ]
  },
  {
   "cell_type": "code",
   "execution_count": 59,
   "id": "2f9a2860-61ca-47c8-8578-15a51f2f5ac2",
   "metadata": {},
   "outputs": [],
   "source": [
    "import pandas as pd\n",
    "import numpy as np\n",
    "from sklearn.model_selection import train_test_split\n",
    "from sklearn.preprocessing import StandardScaler, LabelEncoder\n",
    "from tensorflow import keras\n",
    "from tensorflow.keras import layers\n",
    "from tensorflow.keras.models import Sequential\n",
    "from tensorflow.keras.callbacks import EarlyStopping, ModelCheckpoint\n",
    "from sklearn.metrics import accuracy_score\n",
    "import matplotlib.pyplot as plt"
   ]
  },
  {
   "cell_type": "markdown",
   "id": "b2a13cdc-e830-4795-bb59-d15e33a0733d",
   "metadata": {},
   "source": [
    "## Menampilkan data dalam dataset"
   ]
  },
  {
   "cell_type": "code",
   "execution_count": 60,
   "id": "ac1bc461-b03b-45bd-bec1-6384aeebe6f9",
   "metadata": {},
   "outputs": [
    {
     "data": {
      "text/html": [
       "<div>\n",
       "<style scoped>\n",
       "    .dataframe tbody tr th:only-of-type {\n",
       "        vertical-align: middle;\n",
       "    }\n",
       "\n",
       "    .dataframe tbody tr th {\n",
       "        vertical-align: top;\n",
       "    }\n",
       "\n",
       "    .dataframe thead th {\n",
       "        text-align: right;\n",
       "    }\n",
       "</style>\n",
       "<table border=\"1\" class=\"dataframe\">\n",
       "  <thead>\n",
       "    <tr style=\"text-align: right;\">\n",
       "      <th></th>\n",
       "      <th>Unnamed: 0</th>\n",
       "      <th>userName</th>\n",
       "      <th>rating</th>\n",
       "      <th>review</th>\n",
       "      <th>isEdited</th>\n",
       "      <th>date</th>\n",
       "      <th>title</th>\n",
       "    </tr>\n",
       "  </thead>\n",
       "  <tbody>\n",
       "    <tr>\n",
       "      <th>0</th>\n",
       "      <td>0</td>\n",
       "      <td>Savvanananahhh</td>\n",
       "      <td>4</td>\n",
       "      <td>For the most part I quite enjoy Snapchat it’s ...</td>\n",
       "      <td>False</td>\n",
       "      <td>10/4/20 6:01</td>\n",
       "      <td>Performance issues</td>\n",
       "    </tr>\n",
       "    <tr>\n",
       "      <th>1</th>\n",
       "      <td>1</td>\n",
       "      <td>Idek 9-101112</td>\n",
       "      <td>3</td>\n",
       "      <td>I’m sorry to say it, but something is definite...</td>\n",
       "      <td>False</td>\n",
       "      <td>10/14/20 2:13</td>\n",
       "      <td>What happened?</td>\n",
       "    </tr>\n",
       "    <tr>\n",
       "      <th>2</th>\n",
       "      <td>2</td>\n",
       "      <td>William Quintana</td>\n",
       "      <td>3</td>\n",
       "      <td>Snapchat update ruined my story organization! ...</td>\n",
       "      <td>False</td>\n",
       "      <td>7/31/20 19:54</td>\n",
       "      <td>STORY ORGANIZATION RUINED!</td>\n",
       "    </tr>\n",
       "    <tr>\n",
       "      <th>3</th>\n",
       "      <td>3</td>\n",
       "      <td>an gonna be unkown😏</td>\n",
       "      <td>5</td>\n",
       "      <td>I really love the app for how long i have been...</td>\n",
       "      <td>False</td>\n",
       "      <td>4/22/21 14:10</td>\n",
       "      <td>The app is great</td>\n",
       "    </tr>\n",
       "    <tr>\n",
       "      <th>4</th>\n",
       "      <td>4</td>\n",
       "      <td>gzhangziqi</td>\n",
       "      <td>1</td>\n",
       "      <td>This is super frustrating. I was in the middle...</td>\n",
       "      <td>False</td>\n",
       "      <td>10/2/20 13:58</td>\n",
       "      <td>Locked me out, customer service not helping</td>\n",
       "    </tr>\n",
       "    <tr>\n",
       "      <th>...</th>\n",
       "      <td>...</td>\n",
       "      <td>...</td>\n",
       "      <td>...</td>\n",
       "      <td>...</td>\n",
       "      <td>...</td>\n",
       "      <td>...</td>\n",
       "      <td>...</td>\n",
       "    </tr>\n",
       "    <tr>\n",
       "      <th>9555</th>\n",
       "      <td>9555</td>\n",
       "      <td>geekygirl17</td>\n",
       "      <td>1</td>\n",
       "      <td>I used to love using Snapchat and now I hardly...</td>\n",
       "      <td>False</td>\n",
       "      <td>6/24/19 0:58</td>\n",
       "      <td>Major issue...not that it will get fixed</td>\n",
       "    </tr>\n",
       "    <tr>\n",
       "      <th>9556</th>\n",
       "      <td>9556</td>\n",
       "      <td>changemaker kkdd</td>\n",
       "      <td>2</td>\n",
       "      <td>Well, I did deleted it because there was some ...</td>\n",
       "      <td>False</td>\n",
       "      <td>6/23/19 13:42</td>\n",
       "      <td>I got then deleted it.</td>\n",
       "    </tr>\n",
       "    <tr>\n",
       "      <th>9557</th>\n",
       "      <td>9557</td>\n",
       "      <td>teekay2much</td>\n",
       "      <td>4</td>\n",
       "      <td>Every time I upload a photo or video to my sto...</td>\n",
       "      <td>False</td>\n",
       "      <td>6/3/19 3:35</td>\n",
       "      <td>Story problem</td>\n",
       "    </tr>\n",
       "    <tr>\n",
       "      <th>9558</th>\n",
       "      <td>9558</td>\n",
       "      <td>whoratheexplora</td>\n",
       "      <td>4</td>\n",
       "      <td>Love this app, but since he update I can’t upl...</td>\n",
       "      <td>False</td>\n",
       "      <td>6/3/19 3:26</td>\n",
       "      <td>Bugs</td>\n",
       "    </tr>\n",
       "    <tr>\n",
       "      <th>9559</th>\n",
       "      <td>9559</td>\n",
       "      <td>Anthony romanempire21</td>\n",
       "      <td>3</td>\n",
       "      <td>Love Snapchat but for some reason when I post ...</td>\n",
       "      <td>False</td>\n",
       "      <td>6/3/19 2:24</td>\n",
       "      <td>Posting to snap story</td>\n",
       "    </tr>\n",
       "  </tbody>\n",
       "</table>\n",
       "<p>9560 rows × 7 columns</p>\n",
       "</div>"
      ],
      "text/plain": [
       "      Unnamed: 0               userName  rating  \\\n",
       "0              0         Savvanananahhh       4   \n",
       "1              1          Idek 9-101112       3   \n",
       "2              2       William Quintana       3   \n",
       "3              3    an gonna be unkown😏       5   \n",
       "4              4             gzhangziqi       1   \n",
       "...          ...                    ...     ...   \n",
       "9555        9555            geekygirl17       1   \n",
       "9556        9556       changemaker kkdd       2   \n",
       "9557        9557            teekay2much       4   \n",
       "9558        9558        whoratheexplora       4   \n",
       "9559        9559  Anthony romanempire21       3   \n",
       "\n",
       "                                                 review  isEdited  \\\n",
       "0     For the most part I quite enjoy Snapchat it’s ...     False   \n",
       "1     I’m sorry to say it, but something is definite...     False   \n",
       "2     Snapchat update ruined my story organization! ...     False   \n",
       "3     I really love the app for how long i have been...     False   \n",
       "4     This is super frustrating. I was in the middle...     False   \n",
       "...                                                 ...       ...   \n",
       "9555  I used to love using Snapchat and now I hardly...     False   \n",
       "9556  Well, I did deleted it because there was some ...     False   \n",
       "9557  Every time I upload a photo or video to my sto...     False   \n",
       "9558  Love this app, but since he update I can’t upl...     False   \n",
       "9559  Love Snapchat but for some reason when I post ...     False   \n",
       "\n",
       "               date                                        title  \n",
       "0      10/4/20 6:01                           Performance issues  \n",
       "1     10/14/20 2:13                               What happened?  \n",
       "2     7/31/20 19:54                   STORY ORGANIZATION RUINED!  \n",
       "3     4/22/21 14:10                             The app is great  \n",
       "4     10/2/20 13:58  Locked me out, customer service not helping  \n",
       "...             ...                                          ...  \n",
       "9555   6/24/19 0:58     Major issue...not that it will get fixed  \n",
       "9556  6/23/19 13:42                       I got then deleted it.  \n",
       "9557    6/3/19 3:35                                Story problem  \n",
       "9558    6/3/19 3:26                                         Bugs  \n",
       "9559    6/3/19 2:24                        Posting to snap story  \n",
       "\n",
       "[9560 rows x 7 columns]"
      ]
     },
     "execution_count": 60,
     "metadata": {},
     "output_type": "execute_result"
    }
   ],
   "source": [
    "df = pd.read_csv(\"Snapchat_app_store_reviews.csv\")\n",
    "df"
   ]
  },
  {
   "cell_type": "markdown",
   "id": "aa69f674-a5d3-4b06-bdda-c1c3f95cf835",
   "metadata": {},
   "source": [
    "## Preprocessing dataset"
   ]
  },
  {
   "cell_type": "markdown",
   "id": "8e5cb451-8298-4bf0-bf46-2c3335292098",
   "metadata": {},
   "source": [
    "#### Encoding Target"
   ]
  },
  {
   "cell_type": "code",
   "execution_count": 65,
   "id": "c9582600-c210-457b-9f6b-4e9537dc5827",
   "metadata": {},
   "outputs": [],
   "source": [
    "le = LabelEncoder()\n",
    "df['y'] = le.fit_transform(df['rating'])"
   ]
  },
  {
   "cell_type": "code",
   "execution_count": 66,
   "id": "092a4e1e-a6aa-4aef-93f3-9090a438b400",
   "metadata": {},
   "outputs": [],
   "source": [
    "# Pilih atribut yang dianggap memengaruhi hasil prediksi\n",
    "selected_features = ['Unnamed: 0', 'userName', 'rating', 'review', 'isEdited', 'date', 'title']\n",
    "X = df[selected_features]\n",
    "y = df['rating']"
   ]
  },
  {
   "cell_type": "markdown",
   "id": "d1a9a1dd-5a6c-40fa-8160-5c17e183b75c",
   "metadata": {},
   "source": [
    "#### One-hot encoding untuk atribut kategori"
   ]
  },
  {
   "cell_type": "code",
   "execution_count": 67,
   "id": "fa8e51a5-2bf3-4279-8144-3c4fb7870afe",
   "metadata": {},
   "outputs": [],
   "source": [
    "X = pd.get_dummies(X, columns=['userName', 'review', 'isEdited', 'date', 'title'], drop_first=True)"
   ]
  },
  {
   "cell_type": "markdown",
   "id": "bda41c7c-39c4-42c7-8c69-fdac80c2e8f0",
   "metadata": {},
   "source": [
    "#### Normalisasi atribut numerik"
   ]
  },
  {
   "cell_type": "code",
   "execution_count": 68,
   "id": "91c34a2b-7ba4-41a6-a113-e2465a2246c2",
   "metadata": {},
   "outputs": [],
   "source": [
    "scaler = StandardScaler()\n",
    "X[['Unnamed: 0', 'rating']] = scaler.fit_transform(X[['Unnamed: 0', 'rating']])\n"
   ]
  },
  {
   "cell_type": "markdown",
   "id": "4220e33f-f47e-4887-835d-de609ae280d6",
   "metadata": {},
   "source": [
    "## Split dataset menjadi train dan test"
   ]
  },
  {
   "cell_type": "code",
   "execution_count": 69,
   "id": "d0080176-f943-41c0-bde8-772131be09e9",
   "metadata": {},
   "outputs": [],
   "source": [
    "X_train, X_test, y_train, y_test = train_test_split(X, y, test_size=0.2, random_state=42)"
   ]
  },
  {
   "cell_type": "markdown",
   "id": "56ab9f89-7d9f-4d23-a300-6595d82808bd",
   "metadata": {},
   "source": [
    "## Membangun model Dengan Sequential"
   ]
  },
  {
   "cell_type": "markdown",
   "id": "a159f5e6-fcad-41d9-8a20-f66e4a05e099",
   "metadata": {},
   "source": [
    "#### Output Layer Target Adalah Kategorikal Menggunakan biner"
   ]
  },
  {
   "cell_type": "code",
   "execution_count": 70,
   "id": "c90595a9-0edf-4b05-a98e-3a8aff038370",
   "metadata": {},
   "outputs": [
    {
     "name": "stdout",
     "output_type": "stream",
     "text": [
      "Model: \"sequential_4\"\n",
      "_________________________________________________________________\n",
      " Layer (type)                Output Shape              Param #   \n",
      "=================================================================\n",
      " dense_12 (Dense)            (None, 64)                2300160   \n",
      "                                                                 \n",
      " dense_13 (Dense)            (None, 32)                2080      \n",
      "                                                                 \n",
      " dense_14 (Dense)            (None, 1)                 33        \n",
      "                                                                 \n",
      "=================================================================\n",
      "Total params: 2302273 (8.78 MB)\n",
      "Trainable params: 2302273 (8.78 MB)\n",
      "Non-trainable params: 0 (0.00 Byte)\n",
      "_________________________________________________________________\n"
     ]
    }
   ],
   "source": [
    "model = Sequential()\n",
    "model.add(layers.Dense(64, activation='relu', input_dim=X_train.shape[1]))\n",
    "model.add(layers.Dense(32, activation='relu'))\n",
    "model.add(layers.Dense(1, activation='sigmoid'))\n",
    "model.summary()"
   ]
  },
  {
   "cell_type": "markdown",
   "id": "32d0574f-e336-4d48-be3d-b39f5c58cef6",
   "metadata": {},
   "source": [
    "## Callback"
   ]
  },
  {
   "cell_type": "markdown",
   "id": "c9792c10-6d83-4994-9614-b44afa16d2c5",
   "metadata": {},
   "source": [
    "#### Callback untuk menghentikan pelatihan jika tidak ada perbaikan pada validation loss"
   ]
  },
  {
   "cell_type": "code",
   "execution_count": 71,
   "id": "fbca5cb1-3155-4918-b32b-f1879ea8ff7a",
   "metadata": {},
   "outputs": [],
   "source": [
    "early_stopping = EarlyStopping(monitor='val_loss', patience=10, restore_best_weights=True)"
   ]
  },
  {
   "cell_type": "markdown",
   "id": "a45c94d7-0864-4bcb-b283-ca311be7b214",
   "metadata": {},
   "source": [
    "#### Callback untuk menyimpan model terbaik berdasarkan validation loss"
   ]
  },
  {
   "cell_type": "code",
   "execution_count": 76,
   "id": "62c42738-2fd6-4cf8-8a5b-b7b164192488",
   "metadata": {},
   "outputs": [],
   "source": [
    "model_checkpoint = ModelCheckpoint('best_model.h5', save_best_only=True)"
   ]
  },
  {
   "cell_type": "markdown",
   "id": "c03579d9-f437-4b8d-8d6f-7ee4188d16c4",
   "metadata": {},
   "source": [
    "## Compile model"
   ]
  },
  {
   "cell_type": "code",
   "execution_count": 79,
   "id": "93a1ee53-8330-4782-91dc-018fc94ae559",
   "metadata": {},
   "outputs": [],
   "source": [
    "model.compile(optimizer='adam', loss='binary_crossentropy', metrics=['accuracy'])"
   ]
  },
  {
   "cell_type": "markdown",
   "id": "366cfd7a-3f0a-4724-a46e-603aec4a2540",
   "metadata": {},
   "source": [
    "## Melatih Model"
   ]
  },
  {
   "cell_type": "code",
   "execution_count": 80,
   "id": "5b35bd12-6808-4b91-914e-876a1701d787",
   "metadata": {},
   "outputs": [
    {
     "name": "stdout",
     "output_type": "stream",
     "text": [
      "Epoch 1/100\n",
      "96/96 [==============================] - 8s 74ms/step - loss: -3.8002 - accuracy: 0.1965 - val_loss: -14.8941 - val_accuracy: 0.1961\n",
      "Epoch 2/100\n"
     ]
    },
    {
     "name": "stderr",
     "output_type": "stream",
     "text": [
      "D:\\venv_C1-21\\Andre_121\\lib\\site-packages\\keras\\src\\engine\\training.py:3079: UserWarning: You are saving your model as an HDF5 file via `model.save()`. This file format is considered legacy. We recommend using instead the native Keras format, e.g. `model.save('my_model.keras')`.\n",
      "  saving_api.save_model(\n"
     ]
    },
    {
     "name": "stdout",
     "output_type": "stream",
     "text": [
      "96/96 [==============================] - 6s 59ms/step - loss: -63.0463 - accuracy: 0.1992 - val_loss: -137.2358 - val_accuracy: 0.1961\n",
      "Epoch 3/100\n",
      "96/96 [==============================] - 5s 53ms/step - loss: -327.4929 - accuracy: 0.1992 - val_loss: -528.1934 - val_accuracy: 0.1961\n",
      "Epoch 4/100\n",
      "96/96 [==============================] - 5s 52ms/step - loss: -986.0994 - accuracy: 0.1992 - val_loss: -1340.3080 - val_accuracy: 0.1961\n",
      "Epoch 5/100\n",
      "96/96 [==============================] - 5s 51ms/step - loss: -2211.2673 - accuracy: 0.1992 - val_loss: -2712.5718 - val_accuracy: 0.1961\n",
      "Epoch 6/100\n",
      "96/96 [==============================] - 5s 52ms/step - loss: -4144.2700 - accuracy: 0.1992 - val_loss: -4749.2217 - val_accuracy: 0.1961\n",
      "Epoch 7/100\n",
      "96/96 [==============================] - 5s 52ms/step - loss: -6929.5469 - accuracy: 0.1992 - val_loss: -7562.4824 - val_accuracy: 0.1961\n",
      "Epoch 8/100\n",
      "96/96 [==============================] - 5s 52ms/step - loss: -10680.4336 - accuracy: 0.1992 - val_loss: -11233.5293 - val_accuracy: 0.1961\n",
      "Epoch 9/100\n",
      "96/96 [==============================] - 5s 52ms/step - loss: -15493.9902 - accuracy: 0.1992 - val_loss: -15836.8604 - val_accuracy: 0.1961\n",
      "Epoch 10/100\n",
      "96/96 [==============================] - 5s 51ms/step - loss: -21471.3633 - accuracy: 0.1992 - val_loss: -21508.6289 - val_accuracy: 0.1961\n",
      "Epoch 11/100\n",
      "96/96 [==============================] - 5s 53ms/step - loss: -28702.3945 - accuracy: 0.1992 - val_loss: -28219.0254 - val_accuracy: 0.1961\n",
      "Epoch 12/100\n",
      "96/96 [==============================] - 5s 52ms/step - loss: -37268.7227 - accuracy: 0.1992 - val_loss: -36072.9531 - val_accuracy: 0.1961\n",
      "Epoch 13/100\n",
      "96/96 [==============================] - 5s 52ms/step - loss: -47233.3867 - accuracy: 0.1992 - val_loss: -45147.8047 - val_accuracy: 0.1961\n",
      "Epoch 14/100\n",
      "96/96 [==============================] - 5s 52ms/step - loss: -58660.5000 - accuracy: 0.1992 - val_loss: -55511.7852 - val_accuracy: 0.1961\n",
      "Epoch 15/100\n",
      "96/96 [==============================] - 5s 52ms/step - loss: -71612.8906 - accuracy: 0.1992 - val_loss: -67076.6875 - val_accuracy: 0.1961\n",
      "Epoch 16/100\n",
      "96/96 [==============================] - 5s 54ms/step - loss: -86134.0703 - accuracy: 0.1992 - val_loss: -80034.4609 - val_accuracy: 0.1961\n",
      "Epoch 17/100\n",
      "96/96 [==============================] - 5s 52ms/step - loss: -102279.8125 - accuracy: 0.1992 - val_loss: -94358.2969 - val_accuracy: 0.1961\n",
      "Epoch 18/100\n",
      "96/96 [==============================] - 5s 52ms/step - loss: -120094.3281 - accuracy: 0.1992 - val_loss: -110088.9844 - val_accuracy: 0.1961\n",
      "Epoch 19/100\n",
      "96/96 [==============================] - 5s 51ms/step - loss: -139635.5781 - accuracy: 0.1992 - val_loss: -127320.1328 - val_accuracy: 0.1961\n",
      "Epoch 20/100\n",
      "96/96 [==============================] - 5s 52ms/step - loss: -160879.2031 - accuracy: 0.1992 - val_loss: -145972.1250 - val_accuracy: 0.1961\n",
      "Epoch 21/100\n",
      "96/96 [==============================] - 5s 51ms/step - loss: -183889.5156 - accuracy: 0.1992 - val_loss: -166098.9844 - val_accuracy: 0.1961\n",
      "Epoch 22/100\n",
      "96/96 [==============================] - 5s 52ms/step - loss: -208751.1094 - accuracy: 0.1992 - val_loss: -187697.9844 - val_accuracy: 0.1961\n",
      "Epoch 23/100\n",
      "96/96 [==============================] - 5s 52ms/step - loss: -235425.3281 - accuracy: 0.1992 - val_loss: -210881.3750 - val_accuracy: 0.1961\n",
      "Epoch 24/100\n",
      "96/96 [==============================] - 5s 52ms/step - loss: -263963.4375 - accuracy: 0.1992 - val_loss: -235721.3750 - val_accuracy: 0.1961\n",
      "Epoch 25/100\n",
      "96/96 [==============================] - 5s 53ms/step - loss: -294444.2500 - accuracy: 0.1992 - val_loss: -261986.2344 - val_accuracy: 0.1961\n",
      "Epoch 26/100\n",
      "96/96 [==============================] - 5s 51ms/step - loss: -326861.5000 - accuracy: 0.1992 - val_loss: -289968.3438 - val_accuracy: 0.1961\n",
      "Epoch 27/100\n",
      "96/96 [==============================] - 5s 52ms/step - loss: -361245.8438 - accuracy: 0.1992 - val_loss: -319667.0000 - val_accuracy: 0.1961\n",
      "Epoch 28/100\n",
      "96/96 [==============================] - 5s 52ms/step - loss: -397614.0625 - accuracy: 0.1992 - val_loss: -350791.1562 - val_accuracy: 0.1961\n",
      "Epoch 29/100\n",
      "96/96 [==============================] - 5s 52ms/step - loss: -436011.4688 - accuracy: 0.1992 - val_loss: -383831.9688 - val_accuracy: 0.1961\n",
      "Epoch 30/100\n",
      "96/96 [==============================] - 5s 52ms/step - loss: -476454.4062 - accuracy: 0.1992 - val_loss: -418492.1875 - val_accuracy: 0.1961\n",
      "Epoch 31/100\n",
      "96/96 [==============================] - 5s 53ms/step - loss: -518939.6875 - accuracy: 0.1992 - val_loss: -454964.8750 - val_accuracy: 0.1961\n",
      "Epoch 32/100\n",
      "96/96 [==============================] - 5s 54ms/step - loss: -563508.1250 - accuracy: 0.1992 - val_loss: -493125.9062 - val_accuracy: 0.1961\n",
      "Epoch 33/100\n",
      "96/96 [==============================] - 5s 53ms/step - loss: -610158.8125 - accuracy: 0.1992 - val_loss: -532884.0000 - val_accuracy: 0.1961\n",
      "Epoch 34/100\n",
      "96/96 [==============================] - 5s 52ms/step - loss: -658902.5625 - accuracy: 0.1992 - val_loss: -574691.5625 - val_accuracy: 0.1961\n",
      "Epoch 35/100\n",
      "96/96 [==============================] - 5s 52ms/step - loss: -709824.8125 - accuracy: 0.1992 - val_loss: -617972.3125 - val_accuracy: 0.1961\n",
      "Epoch 36/100\n",
      "96/96 [==============================] - 5s 52ms/step - loss: -762910.3125 - accuracy: 0.1992 - val_loss: -663156.8125 - val_accuracy: 0.1961\n",
      "Epoch 37/100\n",
      "96/96 [==============================] - 5s 52ms/step - loss: -818166.3125 - accuracy: 0.1992 - val_loss: -710250.1875 - val_accuracy: 0.1961\n",
      "Epoch 38/100\n",
      "96/96 [==============================] - 5s 53ms/step - loss: -875624.1875 - accuracy: 0.1992 - val_loss: -759094.1875 - val_accuracy: 0.1961\n",
      "Epoch 39/100\n",
      "96/96 [==============================] - 5s 51ms/step - loss: -935315.1875 - accuracy: 0.1992 - val_loss: -809809.5000 - val_accuracy: 0.1961\n",
      "Epoch 40/100\n",
      "96/96 [==============================] - 5s 53ms/step - loss: -997206.4375 - accuracy: 0.1992 - val_loss: -862441.3125 - val_accuracy: 0.1961\n",
      "Epoch 41/100\n",
      "96/96 [==============================] - 5s 53ms/step - loss: -1061416.0000 - accuracy: 0.1992 - val_loss: -917061.3750 - val_accuracy: 0.1961\n",
      "Epoch 42/100\n",
      "96/96 [==============================] - 5s 52ms/step - loss: -1127850.7500 - accuracy: 0.1992 - val_loss: -973615.1250 - val_accuracy: 0.1961\n",
      "Epoch 43/100\n",
      "96/96 [==============================] - 5s 51ms/step - loss: -1196610.6250 - accuracy: 0.1992 - val_loss: -1031718.3750 - val_accuracy: 0.1961\n",
      "Epoch 44/100\n",
      "96/96 [==============================] - 5s 52ms/step - loss: -1267663.2500 - accuracy: 0.1992 - val_loss: -1091832.7500 - val_accuracy: 0.1961\n",
      "Epoch 45/100\n",
      "96/96 [==============================] - 5s 52ms/step - loss: -1341096.0000 - accuracy: 0.1992 - val_loss: -1154133.2500 - val_accuracy: 0.1961\n",
      "Epoch 46/100\n",
      "96/96 [==============================] - 5s 52ms/step - loss: -1416916.3750 - accuracy: 0.1992 - val_loss: -1218143.3750 - val_accuracy: 0.1961\n",
      "Epoch 47/100\n",
      "96/96 [==============================] - 5s 52ms/step - loss: -1495089.5000 - accuracy: 0.1992 - val_loss: -1284633.5000 - val_accuracy: 0.1961\n",
      "Epoch 48/100\n",
      "96/96 [==============================] - 5s 52ms/step - loss: -1575736.0000 - accuracy: 0.1992 - val_loss: -1352562.0000 - val_accuracy: 0.1961\n",
      "Epoch 49/100\n",
      "96/96 [==============================] - 5s 52ms/step - loss: -1658743.1250 - accuracy: 0.1992 - val_loss: -1422648.3750 - val_accuracy: 0.1961\n",
      "Epoch 50/100\n",
      "96/96 [==============================] - 5s 52ms/step - loss: -1744222.5000 - accuracy: 0.1992 - val_loss: -1494888.1250 - val_accuracy: 0.1961\n",
      "Epoch 51/100\n",
      "96/96 [==============================] - 5s 51ms/step - loss: -1832193.1250 - accuracy: 0.1992 - val_loss: -1568996.8750 - val_accuracy: 0.1961\n",
      "Epoch 52/100\n",
      "96/96 [==============================] - 5s 52ms/step - loss: -1922597.8750 - accuracy: 0.1992 - val_loss: -1645476.6250 - val_accuracy: 0.1961\n",
      "Epoch 53/100\n",
      "96/96 [==============================] - 5s 52ms/step - loss: -2015639.8750 - accuracy: 0.1992 - val_loss: -1723716.6250 - val_accuracy: 0.1961\n",
      "Epoch 54/100\n",
      "96/96 [==============================] - 6s 58ms/step - loss: -2111264.5000 - accuracy: 0.1992 - val_loss: -1804256.0000 - val_accuracy: 0.1961\n",
      "Epoch 55/100\n",
      "96/96 [==============================] - 5s 52ms/step - loss: -2209459.5000 - accuracy: 0.1992 - val_loss: -1886972.8750 - val_accuracy: 0.1961\n",
      "Epoch 56/100\n",
      "96/96 [==============================] - 5s 52ms/step - loss: -2310148.7500 - accuracy: 0.1992 - val_loss: -1972466.2500 - val_accuracy: 0.1961\n",
      "Epoch 57/100\n",
      "96/96 [==============================] - 5s 52ms/step - loss: -2413459.2500 - accuracy: 0.1992 - val_loss: -2059316.3750 - val_accuracy: 0.1961\n",
      "Epoch 58/100\n",
      "96/96 [==============================] - 5s 57ms/step - loss: -2519453.7500 - accuracy: 0.1992 - val_loss: -2148061.0000 - val_accuracy: 0.1961\n",
      "Epoch 59/100\n",
      "96/96 [==============================] - 5s 54ms/step - loss: -2628024.5000 - accuracy: 0.1992 - val_loss: -2239822.2500 - val_accuracy: 0.1961\n",
      "Epoch 60/100\n",
      "96/96 [==============================] - 5s 52ms/step - loss: -2739271.0000 - accuracy: 0.1992 - val_loss: -2333459.7500 - val_accuracy: 0.1961\n",
      "Epoch 61/100\n",
      "96/96 [==============================] - 5s 53ms/step - loss: -2853263.0000 - accuracy: 0.1992 - val_loss: -2429351.7500 - val_accuracy: 0.1961\n",
      "Epoch 62/100\n",
      "96/96 [==============================] - 5s 51ms/step - loss: -2969924.0000 - accuracy: 0.1992 - val_loss: -2527234.7500 - val_accuracy: 0.1961\n",
      "Epoch 63/100\n",
      "96/96 [==============================] - 5s 52ms/step - loss: -3089291.7500 - accuracy: 0.1992 - val_loss: -2627745.0000 - val_accuracy: 0.1961\n",
      "Epoch 64/100\n",
      "96/96 [==============================] - 5s 51ms/step - loss: -3211457.2500 - accuracy: 0.1992 - val_loss: -2730539.2500 - val_accuracy: 0.1961\n",
      "Epoch 65/100\n",
      "96/96 [==============================] - 5s 52ms/step - loss: -3336305.2500 - accuracy: 0.1992 - val_loss: -2835359.0000 - val_accuracy: 0.1961\n",
      "Epoch 66/100\n",
      "96/96 [==============================] - 5s 51ms/step - loss: -3464021.2500 - accuracy: 0.1992 - val_loss: -2942535.0000 - val_accuracy: 0.1961\n",
      "Epoch 67/100\n",
      "96/96 [==============================] - 5s 51ms/step - loss: -3594505.5000 - accuracy: 0.1992 - val_loss: -3052121.0000 - val_accuracy: 0.1961\n",
      "Epoch 68/100\n",
      "96/96 [==============================] - 5s 51ms/step - loss: -3727965.0000 - accuracy: 0.1992 - val_loss: -3164099.0000 - val_accuracy: 0.1961\n",
      "Epoch 69/100\n",
      "96/96 [==============================] - 5s 52ms/step - loss: -3864389.5000 - accuracy: 0.1992 - val_loss: -3278357.0000 - val_accuracy: 0.1961\n",
      "Epoch 70/100\n",
      "96/96 [==============================] - 5s 51ms/step - loss: -4003681.2500 - accuracy: 0.1992 - val_loss: -3395663.0000 - val_accuracy: 0.1961\n",
      "Epoch 71/100\n",
      "96/96 [==============================] - 5s 52ms/step - loss: -4145859.0000 - accuracy: 0.1992 - val_loss: -3515118.2500 - val_accuracy: 0.1961\n",
      "Epoch 72/100\n",
      "96/96 [==============================] - 5s 51ms/step - loss: -4290931.5000 - accuracy: 0.1992 - val_loss: -3636410.5000 - val_accuracy: 0.1961\n",
      "Epoch 73/100\n",
      "96/96 [==============================] - 5s 52ms/step - loss: -4438801.5000 - accuracy: 0.1992 - val_loss: -3760203.2500 - val_accuracy: 0.1961\n",
      "Epoch 74/100\n",
      "96/96 [==============================] - 5s 51ms/step - loss: -4589796.0000 - accuracy: 0.1992 - val_loss: -3887214.7500 - val_accuracy: 0.1961\n",
      "Epoch 75/100\n",
      "96/96 [==============================] - 5s 52ms/step - loss: -4743905.0000 - accuracy: 0.1992 - val_loss: -4015789.7500 - val_accuracy: 0.1961\n",
      "Epoch 76/100\n",
      "96/96 [==============================] - 5s 51ms/step - loss: -4900864.5000 - accuracy: 0.1992 - val_loss: -4148209.0000 - val_accuracy: 0.1961\n",
      "Epoch 77/100\n",
      "96/96 [==============================] - 5s 52ms/step - loss: -5060942.5000 - accuracy: 0.1992 - val_loss: -4282066.0000 - val_accuracy: 0.1961\n",
      "Epoch 78/100\n",
      "96/96 [==============================] - 5s 51ms/step - loss: -5224017.0000 - accuracy: 0.1992 - val_loss: -4419018.0000 - val_accuracy: 0.1961\n",
      "Epoch 79/100\n",
      "96/96 [==============================] - 5s 52ms/step - loss: -5390173.5000 - accuracy: 0.1992 - val_loss: -4558206.0000 - val_accuracy: 0.1961\n",
      "Epoch 80/100\n",
      "96/96 [==============================] - 5s 51ms/step - loss: -5559545.0000 - accuracy: 0.1992 - val_loss: -4700209.0000 - val_accuracy: 0.1961\n",
      "Epoch 81/100\n",
      "96/96 [==============================] - 5s 52ms/step - loss: -5731913.5000 - accuracy: 0.1992 - val_loss: -4844630.0000 - val_accuracy: 0.1961\n",
      "Epoch 82/100\n",
      "96/96 [==============================] - 5s 52ms/step - loss: -5907670.0000 - accuracy: 0.1992 - val_loss: -4991485.5000 - val_accuracy: 0.1961\n",
      "Epoch 83/100\n",
      "96/96 [==============================] - 5s 56ms/step - loss: -6086534.0000 - accuracy: 0.1992 - val_loss: -5141450.0000 - val_accuracy: 0.1961\n",
      "Epoch 84/100\n",
      "96/96 [==============================] - 5s 53ms/step - loss: -6268663.5000 - accuracy: 0.1992 - val_loss: -5294148.5000 - val_accuracy: 0.1961\n",
      "Epoch 85/100\n",
      "96/96 [==============================] - 5s 52ms/step - loss: -6454089.0000 - accuracy: 0.1992 - val_loss: -5448520.5000 - val_accuracy: 0.1961\n",
      "Epoch 86/100\n",
      "96/96 [==============================] - 5s 53ms/step - loss: -6642669.5000 - accuracy: 0.1992 - val_loss: -5606504.5000 - val_accuracy: 0.1961\n",
      "Epoch 87/100\n",
      "96/96 [==============================] - 5s 55ms/step - loss: -6834543.5000 - accuracy: 0.1992 - val_loss: -5767074.5000 - val_accuracy: 0.1961\n",
      "Epoch 88/100\n",
      "96/96 [==============================] - 5s 53ms/step - loss: -7029567.0000 - accuracy: 0.1992 - val_loss: -5931095.0000 - val_accuracy: 0.1961\n",
      "Epoch 89/100\n",
      "96/96 [==============================] - 5s 52ms/step - loss: -7228170.0000 - accuracy: 0.1992 - val_loss: -6096628.5000 - val_accuracy: 0.1961\n",
      "Epoch 90/100\n",
      "96/96 [==============================] - 5s 52ms/step - loss: -7429948.0000 - accuracy: 0.1992 - val_loss: -6264767.5000 - val_accuracy: 0.1961\n",
      "Epoch 91/100\n",
      "96/96 [==============================] - 5s 52ms/step - loss: -7635067.0000 - accuracy: 0.1992 - val_loss: -6437235.5000 - val_accuracy: 0.1961\n",
      "Epoch 92/100\n",
      "96/96 [==============================] - 5s 52ms/step - loss: -7843797.0000 - accuracy: 0.1992 - val_loss: -6610954.0000 - val_accuracy: 0.1961\n",
      "Epoch 93/100\n",
      "96/96 [==============================] - 5s 52ms/step - loss: -8056058.0000 - accuracy: 0.1992 - val_loss: -6788323.5000 - val_accuracy: 0.1961\n",
      "Epoch 94/100\n",
      "96/96 [==============================] - 5s 52ms/step - loss: -8271471.5000 - accuracy: 0.1992 - val_loss: -6968670.5000 - val_accuracy: 0.1961\n",
      "Epoch 95/100\n",
      "96/96 [==============================] - 5s 52ms/step - loss: -8490482.0000 - accuracy: 0.1992 - val_loss: -7151274.5000 - val_accuracy: 0.1961\n",
      "Epoch 96/100\n",
      "96/96 [==============================] - 5s 51ms/step - loss: -8712929.0000 - accuracy: 0.1992 - val_loss: -7337832.0000 - val_accuracy: 0.1961\n",
      "Epoch 97/100\n",
      "96/96 [==============================] - 5s 51ms/step - loss: -8939041.0000 - accuracy: 0.1992 - val_loss: -7525853.0000 - val_accuracy: 0.1961\n",
      "Epoch 98/100\n",
      "96/96 [==============================] - 5s 54ms/step - loss: -9168222.0000 - accuracy: 0.1992 - val_loss: -7718255.0000 - val_accuracy: 0.1961\n",
      "Epoch 99/100\n",
      "96/96 [==============================] - 5s 51ms/step - loss: -9401581.0000 - accuracy: 0.1992 - val_loss: -7912377.0000 - val_accuracy: 0.1961\n",
      "Epoch 100/100\n",
      "96/96 [==============================] - 5s 51ms/step - loss: -9638066.0000 - accuracy: 0.1992 - val_loss: -8110612.0000 - val_accuracy: 0.1961\n"
     ]
    }
   ],
   "source": [
    "history = model.fit(X_train, y_train, epochs=100, batch_size=64, validation_split=0.2, callbacks=[early_stopping, model_checkpoint])"
   ]
  },
  {
   "cell_type": "code",
   "execution_count": 81,
   "id": "c71df938-669a-44f4-809e-13cd38f9c1a1",
   "metadata": {},
   "outputs": [],
   "source": [
    "# Load model terbaik\n",
    "model = keras.models.load_model('best_model.h5')"
   ]
  },
  {
   "cell_type": "markdown",
   "id": "28856944-9473-4ab0-a903-7f35e79068fb",
   "metadata": {},
   "source": [
    "## Evaluasi Model"
   ]
  },
  {
   "cell_type": "code",
   "execution_count": 82,
   "id": "b34ddc21-4ce5-47d0-9de8-c689a9e01f89",
   "metadata": {},
   "outputs": [
    {
     "name": "stdout",
     "output_type": "stream",
     "text": [
      "60/60 [==============================] - 1s 8ms/step - loss: -8183388.5000 - accuracy: 0.1883\n",
      "Test Loss: -8183388.5000\n",
      "Test Accuracy: 0.1883\n"
     ]
    }
   ],
   "source": [
    "test_loss, test_accuracy = model.evaluate(X_test, y_test)\n",
    "print(f'Test Loss: {test_loss:.4f}')\n",
    "print(f'Test Accuracy: {test_accuracy:.4f}')"
   ]
  },
  {
   "cell_type": "markdown",
   "id": "a4896fe8-3295-4abb-b01c-a3eeec4e327d",
   "metadata": {},
   "source": [
    "## grafik perbandingan accuracy dan loss dari train dan test"
   ]
  },
  {
   "cell_type": "code",
   "execution_count": 83,
   "id": "c3c59e95-f465-467f-9b40-5423bb0cd117",
   "metadata": {},
   "outputs": [
    {
     "data": {
      "image/png": "[encoded data removed]",
      "text/plain": [
       "<Figure size 1200x400 with 2 Axes>"
      ]
     },
     "metadata": {},
     "output_type": "display_data"
    }
   ],
   "source": [
    "plt.figure(figsize=(12, 4))\n",
    "plt.subplot(1, 2, 1)\n",
    "plt.plot(history.history['accuracy'], label='Train Accuracy')\n",
    "plt.plot(history.history['val_accuracy'], label='Validation Accuracy')\n",
    "plt.legend()\n",
    "plt.title('Training and Validation Accuracy')\n",
    "\n",
    "plt.subplot(1, 2, 2)\n",
    "plt.plot(history.history['loss'], label='Train Loss')\n",
    "plt.plot(history.history['val_loss'], label='Validation Loss')\n",
    "plt.legend()\n",
    "plt.title('Training and Validation Loss')\n",
    "\n",
    "plt.show()"
   ]
  },
  {
   "cell_type": "code",
   "execution_count": null,
   "id": "904a19ce-35fd-4d29-80fb-336853085965",
   "metadata": {},
   "outputs": [],
   "source": []
  }
 ],
 "metadata": {
  "kernelspec": {
   "display_name": "Andry_121",
   "language": "python",
   "name": "andry_121"
  },
  "language_info": {
   "codemirror_mode": {
    "name": "ipython",
    "version": 3
   },
   "file_extension": ".py",
   "mimetype": "text/x-python",
   "name": "python",
   "nbconvert_exporter": "python",
   "pygments_lexer": "ipython3",
   "version": "3.10.7"
  }
 },
 "nbformat": 4,
 "nbformat_minor": 5
}
