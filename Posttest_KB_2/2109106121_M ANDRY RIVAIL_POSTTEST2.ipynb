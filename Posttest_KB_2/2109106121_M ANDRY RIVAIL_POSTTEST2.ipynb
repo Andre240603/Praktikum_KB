{
 "cells": [
  {
   "cell_type": "markdown",
   "id": "e1a7b72f-752d-49f1-8fc1-549d350b5099",
   "metadata": {},
   "source": [
    "# POSTTEST 2"
   ]
  },
  {
   "cell_type": "markdown",
   "id": "db615ea2-1756-4a6b-820a-f0b1bf879e29",
   "metadata": {},
   "source": [
    "<h6>1. Tampilkan rata-rata, standar deviasi, nilai minimum, nilai maksimum, Q1, Q2, dan Q3 dari attribute bertipe angka.<h6>"
   ]
  },
  {
   "cell_type": "code",
   "execution_count": 12,
   "id": "8addb97d-d7f9-445f-b4a0-584fb68be51c",
   "metadata": {},
   "outputs": [
    {
     "data": {
      "text/html": [
       "<div>\n",
       "<style scoped>\n",
       "    .dataframe tbody tr th:only-of-type {\n",
       "        vertical-align: middle;\n",
       "    }\n",
       "\n",
       "    .dataframe tbody tr th {\n",
       "        vertical-align: top;\n",
       "    }\n",
       "\n",
       "    .dataframe thead th {\n",
       "        text-align: right;\n",
       "    }\n",
       "</style>\n",
       "<table border=\"1\" class=\"dataframe\">\n",
       "  <thead>\n",
       "    <tr style=\"text-align: right;\">\n",
       "      <th></th>\n",
       "      <th>Unnamed: 0</th>\n",
       "      <th>rating</th>\n",
       "    </tr>\n",
       "  </thead>\n",
       "  <tbody>\n",
       "    <tr>\n",
       "      <th>count</th>\n",
       "      <td>9560.000000</td>\n",
       "      <td>9560.000000</td>\n",
       "    </tr>\n",
       "    <tr>\n",
       "      <th>mean</th>\n",
       "      <td>4779.500000</td>\n",
       "      <td>3.127615</td>\n",
       "    </tr>\n",
       "    <tr>\n",
       "      <th>std</th>\n",
       "      <td>2759.878621</td>\n",
       "      <td>1.397407</td>\n",
       "    </tr>\n",
       "    <tr>\n",
       "      <th>min</th>\n",
       "      <td>0.000000</td>\n",
       "      <td>1.000000</td>\n",
       "    </tr>\n",
       "    <tr>\n",
       "      <th>25%</th>\n",
       "      <td>2389.750000</td>\n",
       "      <td>2.000000</td>\n",
       "    </tr>\n",
       "    <tr>\n",
       "      <th>50%</th>\n",
       "      <td>4779.500000</td>\n",
       "      <td>3.000000</td>\n",
       "    </tr>\n",
       "    <tr>\n",
       "      <th>75%</th>\n",
       "      <td>7169.250000</td>\n",
       "      <td>4.000000</td>\n",
       "    </tr>\n",
       "    <tr>\n",
       "      <th>max</th>\n",
       "      <td>9559.000000</td>\n",
       "      <td>5.000000</td>\n",
       "    </tr>\n",
       "  </tbody>\n",
       "</table>\n",
       "</div>"
      ],
      "text/plain": [
       "        Unnamed: 0       rating\n",
       "count  9560.000000  9560.000000\n",
       "mean   4779.500000     3.127615\n",
       "std    2759.878621     1.397407\n",
       "min       0.000000     1.000000\n",
       "25%    2389.750000     2.000000\n",
       "50%    4779.500000     3.000000\n",
       "75%    7169.250000     4.000000\n",
       "max    9559.000000     5.000000"
      ]
     },
     "execution_count": 12,
     "metadata": {},
     "output_type": "execute_result"
    }
   ],
   "source": [
    "import pandas as pd\n",
    "snap = pd.read_csv(\"Snapchat_app_store_reviews.csv\")\n",
    "snap = snap.select_dtypes([\"float\",\"int\"])\n",
    "snap.describe()"
   ]
  },
  {
   "cell_type": "markdown",
   "id": "8b0e8431-8e53-4a80-9603-4729cc5283a5",
   "metadata": {},
   "source": [
    "<h6>2. Tampilkan 10 record pertama dari dataset dengan attribute bertipe angka.<h6>"
   ]
  },
  {
   "cell_type": "code",
   "execution_count": 13,
   "id": "f523ca6d-1528-41b0-b589-1b1051ac0658",
   "metadata": {},
   "outputs": [
    {
     "data": {
      "text/html": [
       "<div>\n",
       "<style scoped>\n",
       "    .dataframe tbody tr th:only-of-type {\n",
       "        vertical-align: middle;\n",
       "    }\n",
       "\n",
       "    .dataframe tbody tr th {\n",
       "        vertical-align: top;\n",
       "    }\n",
       "\n",
       "    .dataframe thead th {\n",
       "        text-align: right;\n",
       "    }\n",
       "</style>\n",
       "<table border=\"1\" class=\"dataframe\">\n",
       "  <thead>\n",
       "    <tr style=\"text-align: right;\">\n",
       "      <th></th>\n",
       "      <th>Unnamed: 0</th>\n",
       "      <th>rating</th>\n",
       "    </tr>\n",
       "  </thead>\n",
       "  <tbody>\n",
       "    <tr>\n",
       "      <th>0</th>\n",
       "      <td>0</td>\n",
       "      <td>4</td>\n",
       "    </tr>\n",
       "    <tr>\n",
       "      <th>1</th>\n",
       "      <td>1</td>\n",
       "      <td>3</td>\n",
       "    </tr>\n",
       "    <tr>\n",
       "      <th>2</th>\n",
       "      <td>2</td>\n",
       "      <td>3</td>\n",
       "    </tr>\n",
       "    <tr>\n",
       "      <th>3</th>\n",
       "      <td>3</td>\n",
       "      <td>5</td>\n",
       "    </tr>\n",
       "    <tr>\n",
       "      <th>4</th>\n",
       "      <td>4</td>\n",
       "      <td>1</td>\n",
       "    </tr>\n",
       "    <tr>\n",
       "      <th>5</th>\n",
       "      <td>5</td>\n",
       "      <td>1</td>\n",
       "    </tr>\n",
       "    <tr>\n",
       "      <th>6</th>\n",
       "      <td>6</td>\n",
       "      <td>4</td>\n",
       "    </tr>\n",
       "    <tr>\n",
       "      <th>7</th>\n",
       "      <td>7</td>\n",
       "      <td>1</td>\n",
       "    </tr>\n",
       "    <tr>\n",
       "      <th>8</th>\n",
       "      <td>8</td>\n",
       "      <td>1</td>\n",
       "    </tr>\n",
       "    <tr>\n",
       "      <th>9</th>\n",
       "      <td>9</td>\n",
       "      <td>1</td>\n",
       "    </tr>\n",
       "  </tbody>\n",
       "</table>\n",
       "</div>"
      ],
      "text/plain": [
       "   Unnamed: 0  rating\n",
       "0           0       4\n",
       "1           1       3\n",
       "2           2       3\n",
       "3           3       5\n",
       "4           4       1\n",
       "5           5       1\n",
       "6           6       4\n",
       "7           7       1\n",
       "8           8       1\n",
       "9           9       1"
      ]
     },
     "execution_count": 13,
     "metadata": {},
     "output_type": "execute_result"
    }
   ],
   "source": [
    "snap = snap.select_dtypes([\"float\",\"int\"])\n",
    "snap.head(10)"
   ]
  },
  {
   "cell_type": "markdown",
   "id": "ce4820ff-949c-4889-8ac9-16e8332b2646",
   "metadata": {},
   "source": [
    "<h6>3. Tampilkan informasi jumlah record, jumlah attribute, nama attribute, jumlah attribute dengan tipe angka. Masukkan informasi tersebut dalam dictionary dengan key sesuai nama informasinya. Tampilkan isi dari dictionary tersebut sebagus mungkin.\n",
    "<h6>"
   ]
  },
  {
   "cell_type": "code",
   "execution_count": 16,
   "id": "203ff175-82a5-441f-b6e6-54a2b6ce9f4b",
   "metadata": {},
   "outputs": [
    {
     "name": "stdout",
     "output_type": "stream",
     "text": [
      "Jumlah Record : 9560\n",
      "Jumlah Attribute : 2\n",
      "Nama Attribute : ['Unnamed: 0', 'rating']\n",
      "Jumlah Object : 2\n",
      "Jumlah Nilai Null : 0\n"
     ]
    }
   ],
   "source": [
    "record, attribute = snap.shape\n",
    "jml_object = snap.select_dtypes([\"float\", \"int\"]).any().sum()\n",
    "nama_attribute = snap.columns.values\n",
    "jml_null = snap.isnull().any().sum()\n",
    "\n",
    "info = {\"Jumlah Record\": record, \n",
    "        \"Jumlah Attribute\" : attribute, \n",
    "        \"Nama Attribute\" : list(nama_attribute), \n",
    "        \"Jumlah Object\" : jml_object, \n",
    "        \"Jumlah Nilai Null\": jml_null}\n",
    "\n",
    "for x in info :\n",
    "    print(x, \":\", info[x])"
   ]
  },
  {
   "cell_type": "markdown",
   "id": "79a22748-8cd3-4f7b-8e0e-0cc0365c64ca",
   "metadata": {},
   "source": [
    "<h6>4. Tampilkan nilai dataset pada baris dimulai dengan 3 digit NIM akhir hingga data terakhir dan kolom ke 4 hingga kolom terakhir menggunakan ke 2 metode slice.\r\n",
    "<h6>"
   ]
  },
  {
   "cell_type": "code",
   "execution_count": 38,
   "id": "dc51293d-d999-4bc0-9739-fecde4da5aab",
   "metadata": {},
   "outputs": [
    {
     "name": "stdout",
     "output_type": "stream",
     "text": [
      "Empty DataFrame\n",
      "Columns: []\n",
      "Index: [121, 122, 123, 124, 125, 126, 127, 128, 129, 130, 131, 132, 133, 134, 135, 136, 137, 138, 139, 140, 141, 142, 143, 144, 145, 146, 147, 148, 149, 150, 151, 152, 153, 154, 155, 156, 157, 158, 159, 160, 161, 162, 163, 164, 165, 166, 167, 168, 169, 170, 171, 172, 173, 174, 175, 176, 177, 178, 179, 180, 181, 182, 183, 184, 185, 186, 187, 188, 189, 190, 191, 192, 193, 194, 195, 196, 197, 198, 199, 200, 201, 202, 203, 204, 205, 206, 207, 208, 209, 210, 211, 212, 213, 214, 215, 216, 217, 218, 219, 220, ...]\n",
      "\n",
      "[9439 rows x 0 columns]\n",
      "      Unnamed: 0  rating\n",
      "121          121       5\n",
      "122          122       5\n",
      "123          123       4\n",
      "124          124       1\n",
      "125          125       1\n",
      "...          ...     ...\n",
      "9555        9555       1\n",
      "9556        9556       2\n",
      "9557        9557       4\n",
      "9558        9558       4\n",
      "9559        9559       3\n",
      "\n",
      "[9439 rows x 2 columns]\n"
     ]
    }
   ],
   "source": [
    "# Menggunakan iloc untuk slicing\n",
    "metode1 = snap.iloc[121:, 3:]\n",
    "print(metode1)\n",
    "\n",
    "# Menggunakan loc untuk slicing\n",
    "metode2 = snap.index[121:]\n",
    "metode2 = snap.loc[metode2, 'Kolom_ke-4':]\n",
    "print(metode2)"
   ]
  },
  {
   "cell_type": "markdown",
   "id": "7930dfc7-26b6-4370-82d0-6119dbf013e6",
   "metadata": {},
   "source": [
    "<h6>5. Tampilkan jumlah label dari semua attribute yang bernilai object (contoh : Jenis Kelamin, Agama).<h6>"
   ]
  },
  {
   "cell_type": "code",
   "execution_count": 40,
   "id": "47abb26e-5147-41cc-89af-d2ba066364cf",
   "metadata": {},
   "outputs": [
    {
     "data": {
      "text/plain": [
       "Series([], dtype: float64)"
      ]
     },
     "execution_count": 40,
     "metadata": {},
     "output_type": "execute_result"
    }
   ],
   "source": [
    "objek = snap.select_dtypes(include=['object'])\n",
    "jumlah_nilai_unik = objek.nunique()\n",
    "jumlah_nilai_unik"
   ]
  },
  {
   "cell_type": "code",
   "execution_count": 42,
   "id": "e697df26-4f9d-4e8d-8a63-8c532dd0be65",
   "metadata": {},
   "outputs": [
    {
     "name": "stdout",
     "output_type": "stream",
     "text": [
      "Empty DataFrame\n",
      "Columns: [Atribut, Jumlah Label Unik]\n",
      "Index: []\n"
     ]
    }
   ],
   "source": [
    "# Pilih hanya atribut bertipe objek (string)\n",
    "object_attributes = snap.select_dtypes(include=['object'])\n",
    "\n",
    "# Hitung jumlah label unik pada setiap kolom objek\n",
    "unique_labels = object_attributes.nunique()\n",
    "# Tampilkan hasil dalam bentuk DataFrame\n",
    "unique_labels_df = pd.DataFrame({'Atribut': unique_labels.index, 'Jumlah Label Unik': unique_labels.values})\n",
    "\n",
    "print(unique_labels_df)\n"
   ]
  },
  {
   "cell_type": "code",
   "execution_count": null,
   "id": "9a27f19f-c2c2-4e60-b40b-7e4116134d58",
   "metadata": {},
   "outputs": [],
   "source": []
  }
 ],
 "metadata": {
  "kernelspec": {
   "display_name": "Andry_121",
   "language": "python",
   "name": "andry_121"
  },
  "language_info": {
   "codemirror_mode": {
    "name": "ipython",
    "version": 3
   },
   "file_extension": ".py",
   "mimetype": "text/x-python",
   "name": "python",
   "nbconvert_exporter": "python",
   "pygments_lexer": "ipython3",
   "version": "3.10.7"
  }
 },
 "nbformat": 4,
 "nbformat_minor": 5
}
